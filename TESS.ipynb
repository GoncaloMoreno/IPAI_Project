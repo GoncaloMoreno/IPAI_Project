{
 "cells": [
  {
   "cell_type": "code",
   "execution_count": null,
   "metadata": {},
   "outputs": [],
   "source": [
    "import os\n",
    "from astroquery.mast import Observations\n",
    "from astropy.coordinates import SkyCoord\n",
    "import pandas as pd"
   ]
  },
  {
   "cell_type": "code",
   "execution_count": null,
   "metadata": {},
   "outputs": [],
   "source": [
    "# Proxima Centauri's ICRS\n",
    "coord = SkyCoord('14h29m42.94613s', '-62d40m46.16468s', frame='icrs')\n",
    "\n",
    "tess_csv = 'tessqueries.csv'\n",
    "\n",
    "if os.path.exists(tess_csv):\n",
    "    tess_pd = pd.read_csv(tess_csv)\n",
    "else:\n",
    "    # Query TESS near Proxima Centauri\n",
    "    obs_table = Observations.query_criteria(\n",
    "        obs_collection='tess',  # TESS\n",
    "        dataproduct_type=['image', 'spectrum', 'catalog'],  # Data type you want\n",
    "        s_ra=coord.ra.deg,  # Right Ascension of the region\n",
    "        s_dec=coord.dec.deg,  # Declination of the region\n",
    "        radius=0.1  # Search radius in degrees\n",
    ")\n",
    "    tess_pd = obs_table.to_pandas()\n",
    "    tess_pd.to_csv('tessqueries.csv', index=False)"
   ]
  },
  {
   "cell_type": "code",
   "execution_count": 13,
   "metadata": {},
   "outputs": [],
   "source": [
    "pd.set_option('display.max_columns', None)"
   ]
  },
  {
   "cell_type": "code",
   "execution_count": null,
   "metadata": {},
   "outputs": [],
   "source": [
    "tess_pd"
   ]
  }
 ],
 "metadata": {
  "kernelspec": {
   "display_name": "Python 3",
   "language": "python",
   "name": "python3"
  },
  "language_info": {
   "codemirror_mode": {
    "name": "ipython",
    "version": 3
   },
   "file_extension": ".py",
   "mimetype": "text/x-python",
   "name": "python",
   "nbconvert_exporter": "python",
   "pygments_lexer": "ipython3",
   "version": "3.12.6"
  }
 },
 "nbformat": 4,
 "nbformat_minor": 2
}
