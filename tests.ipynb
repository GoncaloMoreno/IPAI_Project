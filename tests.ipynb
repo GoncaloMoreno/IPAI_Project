{
 "cells": [
  {
   "cell_type": "code",
   "execution_count": null,
   "metadata": {},
   "outputs": [],
   "source": [
    "from astroquery.mast import Observations\n",
    "from astroquery.gaia import Gaia\n",
    "from astropy.coordinates import SkyCoord\n",
    "import astropy.units as u\n",
    "# from astropy.coordinates import Angle\n",
    "import pandas as pd"
   ]
  },
  {
   "cell_type": "code",
   "execution_count": 2,
   "metadata": {},
   "outputs": [
    {
     "data": {
      "text/plain": [
       "<SkyCoord (ICRS): (ra, dec) in deg\n",
       "    (217.42894221, -62.67949019)>"
      ]
     },
     "execution_count": 2,
     "metadata": {},
     "output_type": "execute_result"
    }
   ],
   "source": [
    "# Proxima Centauri's ICRS\n",
    "coord = SkyCoord('14h29m42.94613s', '-62d40m46.16468s', frame='icrs')\n",
    "coord"
   ]
  },
  {
   "cell_type": "markdown",
   "metadata": {},
   "source": [
    "---"
   ]
  },
  {
   "cell_type": "code",
   "execution_count": 6,
   "metadata": {},
   "outputs": [
    {
     "ename": "MemoryError",
     "evalue": "Unable to allocate 14.2 GiB for an array with shape (50000,) and data type <U76188",
     "output_type": "error",
     "traceback": [
      "\u001b[1;31m---------------------------------------------------------------------------\u001b[0m",
      "\u001b[1;31mMemoryError\u001b[0m                               Traceback (most recent call last)",
      "Cell \u001b[1;32mIn[6], line 1\u001b[0m\n\u001b[1;32m----> 1\u001b[0m obs_table \u001b[38;5;241m=\u001b[39m \u001b[43mObservations\u001b[49m\u001b[38;5;241;43m.\u001b[39;49m\u001b[43mquery_criteria\u001b[49m\u001b[43m(\u001b[49m\n\u001b[0;32m      2\u001b[0m \u001b[43m    \u001b[49m\u001b[43mobs_collection\u001b[49m\u001b[38;5;241;43m=\u001b[39;49m\u001b[38;5;124;43m'\u001b[39;49m\u001b[38;5;124;43mHST\u001b[39;49m\u001b[38;5;124;43m'\u001b[39;49m\u001b[43m,\u001b[49m\u001b[43m  \u001b[49m\u001b[38;5;66;43;03m# Hubble Space Telescope\u001b[39;49;00m\n\u001b[0;32m      3\u001b[0m \u001b[43m    \u001b[49m\u001b[43mdataproduct_type\u001b[49m\u001b[38;5;241;43m=\u001b[39;49m\u001b[43m[\u001b[49m\u001b[38;5;124;43m'\u001b[39;49m\u001b[38;5;124;43mimage\u001b[39;49m\u001b[38;5;124;43m'\u001b[39;49m\u001b[43m,\u001b[49m\u001b[43m \u001b[49m\u001b[38;5;124;43m'\u001b[39;49m\u001b[38;5;124;43mspectrum\u001b[39;49m\u001b[38;5;124;43m'\u001b[39;49m\u001b[43m]\u001b[49m\u001b[43m,\u001b[49m\u001b[43m  \u001b[49m\u001b[38;5;66;43;03m# Data type you want (limited cus else TOO MUCH DATA)\u001b[39;49;00m\n\u001b[0;32m      4\u001b[0m \u001b[43m    \u001b[49m\u001b[43ms_ra\u001b[49m\u001b[38;5;241;43m=\u001b[39;49m\u001b[43mcoord\u001b[49m\u001b[38;5;241;43m.\u001b[39;49m\u001b[43mra\u001b[49m\u001b[38;5;241;43m.\u001b[39;49m\u001b[43mdeg\u001b[49m\u001b[43m,\u001b[49m\u001b[43m  \u001b[49m\u001b[38;5;66;43;03m# Right Ascension of the region\u001b[39;49;00m\n\u001b[0;32m      5\u001b[0m \u001b[43m    \u001b[49m\u001b[43ms_dec\u001b[49m\u001b[38;5;241;43m=\u001b[39;49m\u001b[43mcoord\u001b[49m\u001b[38;5;241;43m.\u001b[39;49m\u001b[43mdec\u001b[49m\u001b[38;5;241;43m.\u001b[39;49m\u001b[43mdeg\u001b[49m\u001b[43m,\u001b[49m\u001b[43m  \u001b[49m\u001b[38;5;66;43;03m# Declination of the region\u001b[39;49;00m\n\u001b[0;32m      6\u001b[0m \u001b[43m    \u001b[49m\u001b[43mradius\u001b[49m\u001b[38;5;241;43m=\u001b[39;49m\u001b[38;5;241;43m0.05\u001b[39;49m\u001b[43m  \u001b[49m\u001b[38;5;66;43;03m# Search radius in degrees (SHORTENED CUS MEMORY)\u001b[39;49;00m\n\u001b[0;32m      7\u001b[0m \u001b[43m)\u001b[49m\n\u001b[0;32m      8\u001b[0m obs_table\u001b[38;5;241m.\u001b[39mto_pandas()\u001b[38;5;241m.\u001b[39mto_csv(\u001b[38;5;124m'\u001b[39m\u001b[38;5;124mhstqueries.csv\u001b[39m\u001b[38;5;124m'\u001b[39m, index\u001b[38;5;241m=\u001b[39m\u001b[38;5;28;01mFalse\u001b[39;00m)\n",
      "File \u001b[1;32mc:\\Users\\moren\\AppData\\Local\\Programs\\Python\\Python312\\Lib\\site-packages\\astroquery\\utils\\class_or_instance.py:25\u001b[0m, in \u001b[0;36mclass_or_instance.__get__.<locals>.f\u001b[1;34m(*args, **kwds)\u001b[0m\n\u001b[0;32m     23\u001b[0m \u001b[38;5;28;01mdef\u001b[39;00m \u001b[38;5;21mf\u001b[39m(\u001b[38;5;241m*\u001b[39margs, \u001b[38;5;241m*\u001b[39m\u001b[38;5;241m*\u001b[39mkwds):\n\u001b[0;32m     24\u001b[0m     \u001b[38;5;28;01mif\u001b[39;00m obj \u001b[38;5;129;01mis\u001b[39;00m \u001b[38;5;129;01mnot\u001b[39;00m \u001b[38;5;28;01mNone\u001b[39;00m:\n\u001b[1;32m---> 25\u001b[0m         \u001b[38;5;28;01mreturn\u001b[39;00m \u001b[38;5;28;43mself\u001b[39;49m\u001b[38;5;241;43m.\u001b[39;49m\u001b[43mfn\u001b[49m\u001b[43m(\u001b[49m\u001b[43mobj\u001b[49m\u001b[43m,\u001b[49m\u001b[43m \u001b[49m\u001b[38;5;241;43m*\u001b[39;49m\u001b[43margs\u001b[49m\u001b[43m,\u001b[49m\u001b[43m \u001b[49m\u001b[38;5;241;43m*\u001b[39;49m\u001b[38;5;241;43m*\u001b[39;49m\u001b[43mkwds\u001b[49m\u001b[43m)\u001b[49m\n\u001b[0;32m     26\u001b[0m     \u001b[38;5;28;01melse\u001b[39;00m:\n\u001b[0;32m     27\u001b[0m         \u001b[38;5;28;01mreturn\u001b[39;00m \u001b[38;5;28mself\u001b[39m\u001b[38;5;241m.\u001b[39mfn(\u001b[38;5;28mcls\u001b[39m, \u001b[38;5;241m*\u001b[39margs, \u001b[38;5;241m*\u001b[39m\u001b[38;5;241m*\u001b[39mkwds)\n",
      "File \u001b[1;32mc:\\Users\\moren\\AppData\\Local\\Programs\\Python\\Python312\\Lib\\site-packages\\astroquery\\utils\\process_asyncs.py:29\u001b[0m, in \u001b[0;36masync_to_sync.<locals>.create_method.<locals>.newmethod\u001b[1;34m(self, *args, **kwargs)\u001b[0m\n\u001b[0;32m     27\u001b[0m \u001b[38;5;28;01mif\u001b[39;00m kwargs\u001b[38;5;241m.\u001b[39mget(\u001b[38;5;124m'\u001b[39m\u001b[38;5;124mget_query_payload\u001b[39m\u001b[38;5;124m'\u001b[39m) \u001b[38;5;129;01mor\u001b[39;00m kwargs\u001b[38;5;241m.\u001b[39mget(\u001b[38;5;124m'\u001b[39m\u001b[38;5;124mfield_help\u001b[39m\u001b[38;5;124m'\u001b[39m):\n\u001b[0;32m     28\u001b[0m     \u001b[38;5;28;01mreturn\u001b[39;00m response\n\u001b[1;32m---> 29\u001b[0m result \u001b[38;5;241m=\u001b[39m \u001b[38;5;28;43mself\u001b[39;49m\u001b[38;5;241;43m.\u001b[39;49m\u001b[43m_parse_result\u001b[49m\u001b[43m(\u001b[49m\u001b[43mresponse\u001b[49m\u001b[43m,\u001b[49m\u001b[43m \u001b[49m\u001b[43mverbose\u001b[49m\u001b[38;5;241;43m=\u001b[39;49m\u001b[43mverbose\u001b[49m\u001b[43m)\u001b[49m\n\u001b[0;32m     30\u001b[0m \u001b[38;5;28mself\u001b[39m\u001b[38;5;241m.\u001b[39mtable \u001b[38;5;241m=\u001b[39m result\n\u001b[0;32m     31\u001b[0m \u001b[38;5;28;01mreturn\u001b[39;00m result\n",
      "File \u001b[1;32mc:\\Users\\moren\\AppData\\Local\\Programs\\Python\\Python312\\Lib\\site-packages\\astroquery\\mast\\observations.py:71\u001b[0m, in \u001b[0;36mObservationsClass._parse_result\u001b[1;34m(self, responses, verbose)\u001b[0m\n\u001b[0;32m     53\u001b[0m \u001b[38;5;28;01mdef\u001b[39;00m \u001b[38;5;21m_parse_result\u001b[39m(\u001b[38;5;28mself\u001b[39m, responses, \u001b[38;5;241m*\u001b[39m, verbose\u001b[38;5;241m=\u001b[39m\u001b[38;5;28;01mFalse\u001b[39;00m):  \u001b[38;5;66;03m# Used by the async_to_sync decorator functionality\u001b[39;00m\n\u001b[0;32m     54\u001b[0m \u001b[38;5;250m    \u001b[39m\u001b[38;5;124;03m\"\"\"\u001b[39;00m\n\u001b[0;32m     55\u001b[0m \u001b[38;5;124;03m    Parse the results of a list of `~requests.Response` objects and returns an `~astropy.table.Table` of results.\u001b[39;00m\n\u001b[0;32m     56\u001b[0m \n\u001b[1;32m   (...)\u001b[0m\n\u001b[0;32m     68\u001b[0m \u001b[38;5;124;03m    response : `~astropy.table.Table`\u001b[39;00m\n\u001b[0;32m     69\u001b[0m \u001b[38;5;124;03m    \"\"\"\u001b[39;00m\n\u001b[1;32m---> 71\u001b[0m     \u001b[38;5;28;01mreturn\u001b[39;00m \u001b[38;5;28;43mself\u001b[39;49m\u001b[38;5;241;43m.\u001b[39;49m\u001b[43m_portal_api_connection\u001b[49m\u001b[38;5;241;43m.\u001b[39;49m\u001b[43m_parse_result\u001b[49m\u001b[43m(\u001b[49m\u001b[43mresponses\u001b[49m\u001b[43m,\u001b[49m\u001b[43m \u001b[49m\u001b[43mverbose\u001b[49m\u001b[43m)\u001b[49m\n",
      "File \u001b[1;32mc:\\Users\\moren\\AppData\\Local\\Programs\\Python\\Python312\\Lib\\site-packages\\astroquery\\mast\\discovery_portal.py:293\u001b[0m, in \u001b[0;36mPortalAPI._parse_result\u001b[1;34m(self, responses, verbose)\u001b[0m\n\u001b[0;32m    290\u001b[0m     \u001b[38;5;28;01mif\u001b[39;00m result[\u001b[38;5;124m'\u001b[39m\u001b[38;5;124mstatus\u001b[39m\u001b[38;5;124m'\u001b[39m] \u001b[38;5;241m==\u001b[39m \u001b[38;5;124m\"\u001b[39m\u001b[38;5;124mERROR\u001b[39m\u001b[38;5;124m\"\u001b[39m:\n\u001b[0;32m    291\u001b[0m         \u001b[38;5;28;01mraise\u001b[39;00m RemoteServiceError(result\u001b[38;5;241m.\u001b[39mget(\u001b[38;5;124m'\u001b[39m\u001b[38;5;124mmsg\u001b[39m\u001b[38;5;124m'\u001b[39m, \u001b[38;5;124m\"\u001b[39m\u001b[38;5;124mThere was an error with your request.\u001b[39m\u001b[38;5;124m\"\u001b[39m))\n\u001b[1;32m--> 293\u001b[0m     result_table \u001b[38;5;241m=\u001b[39m \u001b[43m_json_to_table\u001b[49m\u001b[43m(\u001b[49m\u001b[43mresult\u001b[49m\u001b[43m,\u001b[49m\u001b[43m \u001b[49m\u001b[43mcol_config\u001b[49m\u001b[43m)\u001b[49m\n\u001b[0;32m    294\u001b[0m     result_list\u001b[38;5;241m.\u001b[39mappend(result_table)\n\u001b[0;32m    296\u001b[0m all_results \u001b[38;5;241m=\u001b[39m vstack(result_list)\n",
      "File \u001b[1;32mc:\\Users\\moren\\AppData\\Local\\Programs\\Python\\Python312\\Lib\\site-packages\\astroquery\\mast\\discovery_portal.py:105\u001b[0m, in \u001b[0;36m_json_to_table\u001b[1;34m(json_obj, col_config)\u001b[0m\n\u001b[0;32m    102\u001b[0m         col_mask \u001b[38;5;241m=\u001b[39m np\u001b[38;5;241m.\u001b[39mequal(col_data, ignore_value)\n\u001b[0;32m    104\u001b[0m     \u001b[38;5;66;03m# add the column\u001b[39;00m\n\u001b[1;32m--> 105\u001b[0m     data_table\u001b[38;5;241m.\u001b[39madd_column(MaskedColumn(\u001b[43mcol_data\u001b[49m\u001b[38;5;241;43m.\u001b[39;49m\u001b[43mastype\u001b[49m\u001b[43m(\u001b[49m\u001b[43matype\u001b[49m\u001b[43m)\u001b[49m, name\u001b[38;5;241m=\u001b[39mcol, mask\u001b[38;5;241m=\u001b[39mcol_mask))\n\u001b[0;32m    107\u001b[0m \u001b[38;5;28;01mreturn\u001b[39;00m data_table\n",
      "\u001b[1;31mMemoryError\u001b[0m: Unable to allocate 14.2 GiB for an array with shape (50000,) and data type <U76188"
     ]
    }
   ],
   "source": [
    "obs_table = Observations.query_criteria(\n",
    "    obs_collection='HST',  # Hubble Space Telescope\n",
    "    dataproduct_type=['image', 'spectrum'],  # Data type you want (limited cus else TOO MUCH DATA)\n",
    "    s_ra=coord.ra.deg,  # Right Ascension of the region\n",
    "    s_dec=coord.dec.deg,  # Declination of the region\n",
    "    radius=0.05  # Search radius in degrees (SHORTENED CUS MEMORY)\n",
    ")\n",
    "obs_table.to_pandas().to_csv('hstqueries.csv', index=False)"
   ]
  },
  {
   "cell_type": "code",
   "execution_count": null,
   "metadata": {},
   "outputs": [
    {
     "ename": "SyntaxError",
     "evalue": "invalid syntax (1823168989.py, line 3)",
     "output_type": "error",
     "traceback": [
      "\u001b[1;36m  Cell \u001b[1;32mIn[44], line 3\u001b[1;36m\u001b[0m\n\u001b[1;33m    FROM gaiadr3.gaia_source\u001b[0m\n\u001b[1;37m         ^\u001b[0m\n\u001b[1;31mSyntaxError\u001b[0m\u001b[1;31m:\u001b[0m invalid syntax\n"
     ]
    }
   ],
   "source": [
    "# source_id, ra, dec, parallax, bp_rp, g_rp, radial_velocity, teff_gspphot, classprob_dsc_combmod_star, in_galaxy_candidates, distance_gspphot\n",
    "FROM gaiadr3.gaia_source\n",
    "# Define an ADQL query to select the first 50 stars within a specific sky region\n",
    "query = f\"\"\"\n",
    "SELECT TOP 500000 *\n",
    "WHERE 1=CONTAINS(\n",
    "    POINT('ICRS', coord.ra.deg, coord.dec.deg),\n",
    "    CIRCLE('ICRS', {pc_ra}, {pc_dec}, 0.1)\n",
    ")\n",
    "AND radial_velocity IS NOT NULL\n",
    "ORDER BY parallax DESC\n",
    "\"\"\"\n",
    "\n",
    "# Execute the query asynchronously\n",
    "job = Gaia.launch_job_async(query)\n",
    "results = job.get_results()"
   ]
  },
  {
   "cell_type": "code",
   "execution_count": null,
   "metadata": {},
   "outputs": [
    {
     "data": {
      "text/html": [
       "<div>\n",
       "<style scoped>\n",
       "    .dataframe tbody tr th:only-of-type {\n",
       "        vertical-align: middle;\n",
       "    }\n",
       "\n",
       "    .dataframe tbody tr th {\n",
       "        vertical-align: top;\n",
       "    }\n",
       "\n",
       "    .dataframe thead th {\n",
       "        text-align: right;\n",
       "    }\n",
       "</style>\n",
       "<table border=\"1\" class=\"dataframe\">\n",
       "  <thead>\n",
       "    <tr style=\"text-align: right;\">\n",
       "      <th></th>\n",
       "      <th>source_id</th>\n",
       "      <th>ra</th>\n",
       "      <th>dec</th>\n",
       "      <th>parallax</th>\n",
       "      <th>bp_rp</th>\n",
       "      <th>g_rp</th>\n",
       "      <th>radial_velocity</th>\n",
       "      <th>teff_gspphot</th>\n",
       "      <th>classprob_dsc_combmod_star</th>\n",
       "      <th>in_galaxy_candidates</th>\n",
       "      <th>distance_gspphot</th>\n",
       "    </tr>\n",
       "  </thead>\n",
       "  <tbody>\n",
       "    <tr>\n",
       "      <th>0</th>\n",
       "      <td>5853498713190525696</td>\n",
       "      <td>217.392321</td>\n",
       "      <td>-62.676075</td>\n",
       "      <td>768.066539</td>\n",
       "      <td>3.804580</td>\n",
       "      <td>1.416214</td>\n",
       "      <td>-21.942726</td>\n",
       "      <td>2829.354248</td>\n",
       "      <td>0.999999</td>\n",
       "      <td>False</td>\n",
       "      <td>1.301100</td>\n",
       "    </tr>\n",
       "    <tr>\n",
       "      <th>88</th>\n",
       "      <td>5853495582082256256</td>\n",
       "      <td>217.509283</td>\n",
       "      <td>-62.684901</td>\n",
       "      <td>0.359252</td>\n",
       "      <td>1.889696</td>\n",
       "      <td>0.952288</td>\n",
       "      <td>-21.649586</td>\n",
       "      <td>4760.970703</td>\n",
       "      <td>1.000000</td>\n",
       "      <td>False</td>\n",
       "      <td>2773.550537</td>\n",
       "    </tr>\n",
       "    <tr>\n",
       "      <th>134</th>\n",
       "      <td>5853494516930101120</td>\n",
       "      <td>217.487251</td>\n",
       "      <td>-62.760371</td>\n",
       "      <td>0.242444</td>\n",
       "      <td>2.108239</td>\n",
       "      <td>1.040259</td>\n",
       "      <td>-23.150499</td>\n",
       "      <td>5164.878906</td>\n",
       "      <td>1.000000</td>\n",
       "      <td>False</td>\n",
       "      <td>6667.772949</td>\n",
       "    </tr>\n",
       "  </tbody>\n",
       "</table>\n",
       "</div>"
      ],
      "text/plain": [
       "               source_id          ra        dec    parallax     bp_rp  \\\n",
       "0    5853498713190525696  217.392321 -62.676075  768.066539  3.804580   \n",
       "88   5853495582082256256  217.509283 -62.684901    0.359252  1.889696   \n",
       "134  5853494516930101120  217.487251 -62.760371    0.242444  2.108239   \n",
       "\n",
       "         g_rp  radial_velocity  teff_gspphot  classprob_dsc_combmod_star  \\\n",
       "0    1.416214       -21.942726   2829.354248                    0.999999   \n",
       "88   0.952288       -21.649586   4760.970703                    1.000000   \n",
       "134  1.040259       -23.150499   5164.878906                    1.000000   \n",
       "\n",
       "     in_galaxy_candidates  distance_gspphot  \n",
       "0                   False          1.301100  \n",
       "88                  False       2773.550537  \n",
       "134                 False       6667.772949  "
      ]
     },
     "execution_count": 14,
     "metadata": {},
     "output_type": "execute_result"
    }
   ],
   "source": [
    "results_df = results.to_pandas()\n",
    "close_to_target = results_df[abs(results_df['radial_velocity'] - -22.2) < 1]\n",
    "close_to_target"
   ]
  },
  {
   "cell_type": "code",
   "execution_count": null,
   "metadata": {},
   "outputs": [],
   "source": []
  },
  {
   "cell_type": "code",
   "execution_count": 23,
   "metadata": {},
   "outputs": [
    {
     "name": "stdout",
     "output_type": "stream",
     "text": [
      "None\n"
     ]
    }
   ],
   "source": [
    "from astroquery.sdss import SDSS\n",
    "from astropy import coordinates as coords\n",
    "from astropy.coordinates import SkyCoord\n",
    "from astropy import units as u\n",
    "\n",
    "# Define coordinates and radius (with units)\n",
    "coord = SkyCoord(ra=pc_ra, dec=pc_dec, unit=('deg', 'deg'), frame='icrs')\n",
    "radius = 3 * u.arcmin  # Make sure radius is in degrees (use Astropy units)\n",
    "\n",
    "# Query SDSS using the SkyCoord object and radius\n",
    "query_result = SDSS.query_region(coord, radius=radius, spectro=True)\n",
    "\n",
    "# Show the first few results\n",
    "print(query_result)\n"
   ]
  },
  {
   "cell_type": "code",
   "execution_count": null,
   "metadata": {},
   "outputs": [
    {
     "ename": "AttributeError",
     "evalue": "'SDSSClass' object has no attribute 'get_coverage'",
     "output_type": "error",
     "traceback": [
      "\u001b[1;31m---------------------------------------------------------------------------\u001b[0m",
      "\u001b[1;31mAttributeError\u001b[0m                            Traceback (most recent call last)",
      "Cell \u001b[1;32mIn[24], line 1\u001b[0m\n\u001b[1;32m----> 1\u001b[0m \u001b[43mSDSS\u001b[49m\u001b[38;5;241;43m.\u001b[39;49m\u001b[43mget_coverage\u001b[49m()\n",
      "\u001b[1;31mAttributeError\u001b[0m: 'SDSSClass' object has no attribute 'get_coverage'"
     ]
    }
   ],
   "source": [
    "SDSS."
   ]
  }
 ],
 "metadata": {
  "kernelspec": {
   "display_name": "Python 3",
   "language": "python",
   "name": "python3"
  },
  "language_info": {
   "codemirror_mode": {
    "name": "ipython",
    "version": 3
   },
   "file_extension": ".py",
   "mimetype": "text/x-python",
   "name": "python",
   "nbconvert_exporter": "python",
   "pygments_lexer": "ipython3",
   "version": "3.12.6"
  }
 },
 "nbformat": 4,
 "nbformat_minor": 2
}
