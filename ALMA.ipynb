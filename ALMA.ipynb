{
 "cells": [
  {
   "cell_type": "code",
   "execution_count": 1,
   "metadata": {},
   "outputs": [],
   "source": [
    "import os\n",
    "from astroquery.mast import Observations\n",
    "from astropy.coordinates import SkyCoord\n",
    "from astropy import units as u\n",
    "from astroquery.alma import Alma\n",
    "import pandas as pd"
   ]
  },
  {
   "cell_type": "code",
   "execution_count": 3,
   "metadata": {},
   "outputs": [],
   "source": [
    "# Proxima Centauri's ICRS\n",
    "coord = SkyCoord('14h29m42.94613s', '-62d40m46.16468s', frame='icrs')\n",
    "\n",
    "alma_csv = 'almaqueries.csv'\n",
    "\n",
    "if os.path.exists(alma_csv):\n",
    "    alma_pd = pd.read_csv(alma_csv)\n",
    "else:\n",
    "    alma = Alma()\n",
    "    alma.archive_url = 'https://almascience.eso.org'  # optional to make doctest work\n",
    "    pc_data = alma.query_region(coord, 1*u.deg)\n",
    "\n",
    "    alma_pd = pc_data.to_pandas()\n",
    "    alma_pd.to_csv('almaqueries.csv', index=False)"
   ]
  },
  {
   "cell_type": "code",
   "execution_count": 17,
   "metadata": {},
   "outputs": [
    {
     "data": {
      "text/plain": [
       "Index(['obs_publisher_did', 'obs_collection', 'facility_name',\n",
       "       'instrument_name', 'obs_id', 'dataproduct_type', 'calib_level',\n",
       "       'collections', 'target_name', 's_ra', 's_dec', 's_fov', 's_region',\n",
       "       's_xel1', 's_xel2', 'em_xel', 't_xel', 'pol_xel', 's_resolution',\n",
       "       't_min', 't_max', 't_exptime', 't_resolution', 'em_min', 'em_max',\n",
       "       'em_res_power', 'pol_states', 'cont_sensitivity_bandwidth', 'pwv',\n",
       "       'group_ous_uid', 'member_ous_uid', 'asdm_uid', 'obs_title', 'type',\n",
       "       'scan_intent', 'science_observation', 'spatial_scale_max', 'qa2_passed',\n",
       "       'bib_reference', 'science_keyword', 'scientific_category', 'pi_userid',\n",
       "       'pi_name', 'spectral_resolution', 'o_ucd', 'access_url',\n",
       "       'access_format', 'access_estsize', 'proposal_id', 'data_rights',\n",
       "       'gal_longitude', 'gal_latitude', 'band_list', 'em_resolution',\n",
       "       'bandwidth', 'antenna_arrays', 'is_mosaic', 'obs_release_date',\n",
       "       'spatial_resolution', 'frequency_support', 'frequency',\n",
       "       'velocity_resolution', 'obs_creator_name', 'pub_title', 'first_author',\n",
       "       'authors', 'pub_abstract', 'publication_year', 'proposal_abstract',\n",
       "       'schedblock_name', 'proposal_authors', 'sensitivity_10kms',\n",
       "       'lastModified', 'c'],\n",
       "      dtype='object')"
      ]
     },
     "execution_count": 17,
     "metadata": {},
     "output_type": "execute_result"
    }
   ],
   "source": [
    "alma_pd.columns"
   ]
  },
  {
   "cell_type": "code",
   "execution_count": null,
   "metadata": {},
   "outputs": [],
   "source": [
    "alma_pd[alma_pd['target_name'].str.contains('Proxima', case=False, na=False)]"
   ]
  }
 ],
 "metadata": {
  "kernelspec": {
   "display_name": "Python 3",
   "language": "python",
   "name": "python3"
  },
  "language_info": {
   "codemirror_mode": {
    "name": "ipython",
    "version": 3
   },
   "file_extension": ".py",
   "mimetype": "text/x-python",
   "name": "python",
   "nbconvert_exporter": "python",
   "pygments_lexer": "ipython3",
   "version": "3.12.6"
  }
 },
 "nbformat": 4,
 "nbformat_minor": 2
}
